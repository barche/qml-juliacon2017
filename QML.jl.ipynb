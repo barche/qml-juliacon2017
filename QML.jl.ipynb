{
 "cells": [
  {
   "cell_type": "markdown",
   "metadata": {},
   "source": [
    "# QML.jl: Cross-platform GUIs for Julia\n",
    "\n",
    "<br />\n",
    "### JuliaCon 2017\n",
    "<br />\n",
    "### Bart Janssens\n",
    "### Royal Military Academy, Belgium"
   ]
  },
  {
   "cell_type": "markdown",
   "metadata": {
    "slideshow": {
     "slide_type": "slide"
    }
   },
   "source": [
    "# Introduction\n",
    "\n",
    "## QML.jl Background\n",
    "\n",
    "* Question on julia-users mailing list\n",
    "* Started as a test of CxxWrap.jl\n",
    "* Mostly implemented in C++ (300 lines Julia, 1700 lines C++)\n",
    "* Pretty useful option for cross-platform GUI now\n"
   ]
  },
  {
   "cell_type": "markdown",
   "metadata": {
    "slideshow": {
     "slide_type": "subslide"
    }
   },
   "source": [
    "## Why QML?\n",
    "* Cross-platform, native look\n",
    "* Forces separation between GUI and backend code\n",
    "* Specific language adapted to writing a GUI\n",
    "* Support for visual designer tools\n",
    "* Large community"
   ]
  },
  {
   "cell_type": "markdown",
   "metadata": {
    "slideshow": {
     "slide_type": "subslide"
    }
   },
   "source": [
    "## Overview\n",
    "* QML basics\n",
    "* Basic communication between Julia and QML\n",
    "* Using a ListModel\n",
    "* Embedding a Display\n",
    "* OpenGL integration\n",
    "* GR integration\n",
    "* Future work"
   ]
  },
  {
   "cell_type": "markdown",
   "metadata": {
    "slideshow": {
     "slide_type": "slide"
    }
   },
   "source": [
    "# QML basics\n",
    "* JavaScript-based declarative language for describing a GUI\n",
    "* Part of Qt, but \"separate\" from the C++ widgets\n",
    "* Supports embedding JavaScript\n",
    "* Connect JavaScript, C++ and now Julia functions to signals (e.g. button clicks)\n",
    "* The backend (Julia here) does not call into the GUI\n",
    "* Context properties allow \"injecting\" data\n"
   ]
  },
  {
   "cell_type": "markdown",
   "metadata": {
    "slideshow": {
     "slide_type": "subslide"
    }
   },
   "source": [
    "```javascript\n",
    "import QtQuick 2.0\n",
    "import QtQuick.Controls 1.0\n",
    "import QtQuick.Layouts 1.0\n",
    "\n",
    "ApplicationWindow {\n",
    "  title: \"Hello\"\n",
    "  visible: true\n",
    "\n",
    "  ColumnLayout {\n",
    "    Text { text: \"Hello world!\" }\n",
    "\n",
    "    Button {\n",
    "      text: \"Goodbye world!\"\n",
    "      onClicked: Qt.quit()\n",
    "    }\n",
    "  }\n",
    "}\n",
    "```"
   ]
  },
  {
   "cell_type": "markdown",
   "metadata": {
    "slideshow": {
     "slide_type": "subslide"
    }
   },
   "source": [
    "## Running QML from Julia"
   ]
  },
  {
   "cell_type": "code",
   "execution_count": 1,
   "metadata": {
    "collapsed": true,
    "slideshow": {
     "slide_type": "-"
    }
   },
   "outputs": [],
   "source": [
    "using QML"
   ]
  },
  {
   "cell_type": "code",
   "execution_count": 2,
   "metadata": {
    "collapsed": true
   },
   "outputs": [],
   "source": [
    "# Create a QML application using a path to a QML file:\n",
    "@qmlapp \"qml/hello1.qml\"\n",
    "# Execute the application created by the previous call:\n",
    "exec()"
   ]
  },
  {
   "cell_type": "markdown",
   "metadata": {
    "slideshow": {
     "slide_type": "slide"
    }
   },
   "source": [
    "# Interacting with Julia\n",
    "Let's call a Julia function, so we will replace\n",
    "```js\n",
    "Button {\n",
    "  text: \"Goodbye world!\"\n",
    "  onClicked: Qt.quit()\n",
    "}\n",
    "```\n",
    "with\n",
    "```javascript\n",
    "//...\n",
    "import org.julialang 1.0\n",
    "//...\n",
    "Button {\n",
    "  text: \"Goodbye world!\"\n",
    "  onClicked: Julia.quit()\n",
    "}\n",
    "```"
   ]
  },
  {
   "cell_type": "markdown",
   "metadata": {
    "slideshow": {
     "slide_type": "subslide"
    }
   },
   "source": [
    "## Expose a function to QML:"
   ]
  },
  {
   "cell_type": "code",
   "execution_count": 3,
   "metadata": {
    "collapsed": true
   },
   "outputs": [],
   "source": [
    "@qmlfunction quit"
   ]
  },
  {
   "cell_type": "code",
   "execution_count": null,
   "metadata": {
    "collapsed": true
   },
   "outputs": [],
   "source": [
    "# Create QML application and execute:\n",
    "@qmlapp \"qml/hello2.qml\"\n",
    "exec()"
   ]
  },
  {
   "cell_type": "markdown",
   "metadata": {
    "slideshow": {
     "slide_type": "subslide"
    }
   },
   "source": [
    "## Pass data\n",
    "### Using functions\n",
    "Returned values are converted to QML:"
   ]
  },
  {
   "cell_type": "code",
   "execution_count": 1,
   "metadata": {
    "slideshow": {
     "slide_type": "-"
    }
   },
   "outputs": [
    {
     "data": {
      "text/plain": [
       "caption (generic function with 1 method)"
      ]
     },
     "execution_count": 1,
     "metadata": {},
     "output_type": "execute_result"
    }
   ],
   "source": [
    "caption() = \"Enter a value:\""
   ]
  },
  {
   "cell_type": "markdown",
   "metadata": {},
   "source": [
    "So are arguments:"
   ]
  },
  {
   "cell_type": "code",
   "execution_count": 2,
   "metadata": {},
   "outputs": [
    {
     "data": {
      "text/plain": [
       "\"\""
      ]
     },
     "execution_count": 2,
     "metadata": {},
     "output_type": "execute_result"
    }
   ],
   "source": [
    "function settext(s::String)\n",
    "    global textfield_content\n",
    "    textfield_content = s\n",
    "    return\n",
    "end;\n",
    "\n",
    "textfield_content = \"\""
   ]
  },
  {
   "cell_type": "markdown",
   "metadata": {
    "slideshow": {
     "slide_type": "subslide"
    }
   },
   "source": [
    "```js\n",
    "ColumnLayout {\n",
    "    Text { text: Julia.caption() }\n",
    "\n",
    "    TextField {\n",
    "      id: textEntry\n",
    "      onTextChanged: Julia.settext(text)\n",
    "    }\n",
    "\n",
    "    Text { text: Julia.uppercase(textEntry.text) }\n",
    "}\n",
    "```"
   ]
  },
  {
   "cell_type": "markdown",
   "metadata": {
    "slideshow": {
     "slide_type": "subslide"
    }
   },
   "source": [
    "Execute asynchronously:"
   ]
  },
  {
   "cell_type": "code",
   "execution_count": 3,
   "metadata": {
    "collapsed": true,
    "slideshow": {
     "slide_type": "-"
    }
   },
   "outputs": [],
   "source": [
    "using QML\n",
    "@qmlfunction uppercase caption settext\n",
    "@qmlapp \"qml/functions.qml\"\n",
    "exec_async()"
   ]
  },
  {
   "cell_type": "code",
   "execution_count": 4,
   "metadata": {},
   "outputs": [
    {
     "data": {
      "text/plain": [
       "\"Jul\""
      ]
     },
     "execution_count": 4,
     "metadata": {},
     "output_type": "execute_result"
    }
   ],
   "source": [
    "# Show that the text was correctly passed to Julia\n",
    "textfield_content"
   ]
  },
  {
   "cell_type": "code",
   "execution_count": null,
   "metadata": {
    "collapsed": true
   },
   "outputs": [],
   "source": [
    "quit()"
   ]
  },
  {
   "cell_type": "markdown",
   "metadata": {
    "slideshow": {
     "slide_type": "subslide"
    }
   },
   "source": [
    "### Pass data using context properties of composite types"
   ]
  },
  {
   "cell_type": "code",
   "execution_count": 1,
   "metadata": {
    "collapsed": true
   },
   "outputs": [],
   "source": [
    "mutable struct TextRef\n",
    "  value::String\n",
    "end\n",
    "\n",
    "textproperty = TextRef(\"text\");"
   ]
  },
  {
   "cell_type": "markdown",
   "metadata": {},
   "source": [
    "Textproperty is a \"context property\", available from QML:"
   ]
  },
  {
   "cell_type": "code",
   "execution_count": 2,
   "metadata": {},
   "outputs": [],
   "source": [
    "using QML\n",
    "@qmlapp \"qml/properties1.qml\" textproperty"
   ]
  },
  {
   "cell_type": "markdown",
   "metadata": {},
   "source": [
    "It can also be read from Julia, and is in fact a wrapped version of the original data:"
   ]
  },
  {
   "cell_type": "code",
   "execution_count": 3,
   "metadata": {},
   "outputs": [
    {
     "name": "stdout",
     "output_type": "stream",
     "text": [
      "QML.JuliaObjectRef\n",
      "  cpp_object: Ptr{Void} Ptr{Void} @0x00007fcd8afc01e0\n"
     ]
    }
   ],
   "source": [
    "# qmlcontext() is the root for all context properties\n",
    "# @qmlget/set \"overload\" the dot\n",
    "dump(@qmlget qmlcontext().textproperty)"
   ]
  },
  {
   "cell_type": "markdown",
   "metadata": {
    "slideshow": {
     "slide_type": "subslide"
    }
   },
   "source": [
    "A look at the QML:\n",
    "```javascript\n",
    "ColumnLayout {\n",
    "  Text { text: textproperty.value }\n",
    "\n",
    "  TextField {\n",
    "    onTextChanged: textproperty.value = text\n",
    "  }\n",
    "}\n",
    "```"
   ]
  },
  {
   "cell_type": "markdown",
   "metadata": {
    "slideshow": {
     "slide_type": "subslide"
    }
   },
   "source": [
    "Run the GUI:"
   ]
  },
  {
   "cell_type": "code",
   "execution_count": 4,
   "metadata": {
    "collapsed": true,
    "slideshow": {
     "slide_type": "-"
    }
   },
   "outputs": [],
   "source": [
    "exec()"
   ]
  },
  {
   "cell_type": "markdown",
   "metadata": {},
   "source": [
    "Check that the data made it to Julia:"
   ]
  },
  {
   "cell_type": "code",
   "execution_count": 5,
   "metadata": {
    "slideshow": {
     "slide_type": "-"
    }
   },
   "outputs": [
    {
     "name": "stdout",
     "output_type": "stream",
     "text": [
      "Entered text: test\n"
     ]
    }
   ],
   "source": [
    "println(\"Entered text: $(textproperty.value)\")"
   ]
  },
  {
   "cell_type": "markdown",
   "metadata": {
    "slideshow": {
     "slide_type": "subslide"
    }
   },
   "source": [
    "## Notification\n",
    "### Notify QML from Julia using properties\n"
   ]
  },
  {
   "cell_type": "code",
   "execution_count": 9,
   "metadata": {
    "collapsed": true
   },
   "outputs": [],
   "source": [
    "numclicks = 0\n",
    "\n",
    "function addclick()\n",
    "  global numclicks\n",
    "  numclicks += 1\n",
    "  @qmlset qmlcontext().numclicks = numclicks\n",
    "end\n",
    "\n",
    "@qmlfunction addclick"
   ]
  },
  {
   "cell_type": "markdown",
   "metadata": {
    "slideshow": {
     "slide_type": "subslide"
    }
   },
   "source": [
    "```javascript\n",
    "ColumnLayout {\n",
    "  Text { text: numclicks }\n",
    "\n",
    "  Button {\n",
    "    text: \"Click me!\"\n",
    "    onClicked: Julia.addclick()\n",
    "  }\n",
    "}\n",
    "```"
   ]
  },
  {
   "cell_type": "code",
   "execution_count": 10,
   "metadata": {
    "slideshow": {
     "slide_type": "subslide"
    }
   },
   "outputs": [
    {
     "name": "stdout",
     "output_type": "stream",
     "text": [
      "Number of clicks: 3\n"
     ]
    }
   ],
   "source": [
    "@qmlapp \"qml/properties2.qml\" numclicks\n",
    "exec()\n",
    "println(\"Number of clicks: $numclicks\")"
   ]
  },
  {
   "cell_type": "markdown",
   "metadata": {
    "slideshow": {
     "slide_type": "subslide"
    }
   },
   "source": [
    "### Notify QML from Julia using signals"
   ]
  },
  {
   "cell_type": "code",
   "execution_count": 11,
   "metadata": {
    "collapsed": true
   },
   "outputs": [],
   "source": [
    "numclicks = 0\n",
    "\n",
    "function addclick2()\n",
    "  global numclicks\n",
    "  numclicks += 1\n",
    "  @emit clickAdded(Int32(numclicks))\n",
    "end\n",
    "\n",
    "@qmlfunction addclick2"
   ]
  },
  {
   "cell_type": "markdown",
   "metadata": {
    "slideshow": {
     "slide_type": "subslide"
    }
   },
   "source": [
    "```javascript\n",
    "ColumnLayout {\n",
    "  Text { id: clickDisplay; text: \"0\" }\n",
    "\n",
    "  Button {\n",
    "    text: \"Click me!\"\n",
    "    onClicked: Julia.addclick2()\n",
    "  }\n",
    "}\n",
    "\n",
    "JuliaSignals {\n",
    "  signal clickAdded(int numclicks)\n",
    "  onClickAdded: clickDisplay.text = numclicks\n",
    "}\n",
    "```"
   ]
  },
  {
   "cell_type": "code",
   "execution_count": 12,
   "metadata": {
    "slideshow": {
     "slide_type": "subslide"
    }
   },
   "outputs": [
    {
     "name": "stdout",
     "output_type": "stream",
     "text": [
      "Number of clicks: 6\n"
     ]
    }
   ],
   "source": [
    "@qmlapp \"qml/signals.qml\"\n",
    "exec()\n",
    "println(\"Number of clicks: $numclicks\")"
   ]
  },
  {
   "cell_type": "markdown",
   "metadata": {
    "slideshow": {
     "slide_type": "subslide"
    }
   },
   "source": [
    "### A more complete example: FizzBuzz"
   ]
  },
  {
   "cell_type": "code",
   "execution_count": 14,
   "metadata": {
    "collapsed": true
   },
   "outputs": [],
   "source": [
    "# The simulation data\n",
    "mutable struct FizzBuzz\n",
    "    result::String\n",
    "    last::String\n",
    "end\n",
    "\n",
    "fizzbuzz = FizzBuzz(\"\", \"No FizzBuzz yet!\")\n",
    "\n",
    "# An advanced Julia processing algorithm, unaware of the GUI\n",
    "function do_fizzbuzz(f::FizzBuzz, s::String)\n",
    "    x = parse(Int, s)\n",
    "    if x % 15 == 0\n",
    "        f.result = \"FizzBuzz\"\n",
    "        f.last = s\n",
    "    elseif x % 3 == 0\n",
    "        f.result = \"Fizz\"\n",
    "    elseif x % 5 == 0\n",
    "        f.result = \"Buzz\"\n",
    "    else\n",
    "        f.result = s\n",
    "    end\n",
    "end;"
   ]
  },
  {
   "cell_type": "markdown",
   "metadata": {
    "slideshow": {
     "slide_type": "subslide"
    }
   },
   "source": [
    "Text entry with validation:\n",
    "```javascript\n",
    "TextField {\n",
    "  Layout.fillWidth: true\n",
    "  placeholderText: \"Input a number...\"\n",
    "  validator: IntValidator {\n",
    "    bottom: 1\n",
    "    top: 100\n",
    "  }\n",
    "\n",
    "  onAccepted: {\n",
    "    Julia.do_fizzbuzz(fizzbuzz, text);\n",
    "    fizzbuzz.update();\n",
    "  }\n",
    "}\n",
    "```"
   ]
  },
  {
   "cell_type": "markdown",
   "metadata": {
    "slideshow": {
     "slide_type": "subslide"
    }
   },
   "source": [
    "Display the results using a context property:\n",
    "```javascript\n",
    "GroupBox {\n",
    "  title: \"Result\"\n",
    "  Layout.fillWidth: true\n",
    "  Text { text: fizzbuzz.result }\n",
    "}\n",
    "GroupBox {\n",
    "  title: \"Last\"\n",
    "  Layout.fillWidth: true\n",
    "  Text { text: fizzbuzz.last }\n",
    "}\n",
    "```"
   ]
  },
  {
   "cell_type": "code",
   "execution_count": 15,
   "metadata": {
    "slideshow": {
     "slide_type": "subslide"
    }
   },
   "outputs": [],
   "source": [
    "using QML\n",
    "@qmlfunction do_fizzbuzz\n",
    "@qmlapp \"qml/fizzbuzz.qml\" fizzbuzz\n",
    "exec()"
   ]
  },
  {
   "cell_type": "markdown",
   "metadata": {
    "collapsed": true,
    "slideshow": {
     "slide_type": "subslide"
    }
   },
   "source": [
    "## QML states"
   ]
  },
  {
   "cell_type": "markdown",
   "metadata": {},
   "source": [
    "A simple text input again:\n",
    "```javascript\n",
    "TextField {\n",
    "  Layout.fillWidth: true\n",
    "  placeholderText: \"Input a number...\"\n",
    "  validator: IntValidator {}\n",
    "\n",
    "  // Have Julia check for an even or odd number\n",
    "  onAccepted: { \n",
    "    Julia.process_state(juliastate, text);\n",
    "    juliastate.update();\n",
    "  }\n",
    "}\n",
    "```"
   ]
  },
  {
   "cell_type": "markdown",
   "metadata": {
    "slideshow": {
     "slide_type": "subslide"
    }
   },
   "source": [
    "The state change triggers property adjustments:\n",
    "```javascript\n",
    "Rectangle {\n",
    "  id: statusRect\n",
    "  state: juliastate.state\n",
    "\n",
    "  Text { id: statusText; anchors.centerIn: parent }\n",
    "\n",
    "  states: [\n",
    "    // ...\n",
    "    State {\n",
    "      name: \"ODD\"\n",
    "      PropertyChanges { target: statusRect; color: \"red\"}\n",
    "      PropertyChanges { target: statusText; text: qsTr(\"Odd\") }\n",
    "    },\n",
    "    // ...\n",
    "  ]\n",
    "}\n",
    "```"
   ]
  },
  {
   "cell_type": "code",
   "execution_count": 16,
   "metadata": {
    "slideshow": {
     "slide_type": "subslide"
    }
   },
   "outputs": [
    {
     "data": {
      "text/plain": [
       "process_state (generic function with 1 method)"
      ]
     },
     "execution_count": 16,
     "metadata": {},
     "output_type": "execute_result"
    }
   ],
   "source": [
    "mutable struct JuliaState\n",
    "    state::String\n",
    "end\n",
    "\n",
    "juliastate = JuliaState(\"STARTUP\")\n",
    "\n",
    "function process_state(state::JuliaState, s::String)\n",
    "    (state.state = parse(Int,s) % 2 == 0 ? \"EVEN\" : \"ODD\")\n",
    "end"
   ]
  },
  {
   "cell_type": "markdown",
   "metadata": {},
   "source": [
    "Launch as usual"
   ]
  },
  {
   "cell_type": "code",
   "execution_count": 17,
   "metadata": {
    "collapsed": true
   },
   "outputs": [],
   "source": [
    "using QML\n",
    "@qmlfunction process_state\n",
    "@qmlapp \"qml/states.qml\" juliastate\n",
    "exec()"
   ]
  },
  {
   "cell_type": "markdown",
   "metadata": {
    "collapsed": true,
    "slideshow": {
     "slide_type": "slide"
    }
   },
   "source": [
    "# ListModel\n",
    "Custom class to pass data to model-consuming QML entities (e.g. lists). Example:"
   ]
  },
  {
   "cell_type": "code",
   "execution_count": 18,
   "metadata": {
    "collapsed": true,
    "slideshow": {
     "slide_type": "-"
    }
   },
   "outputs": [],
   "source": [
    "mutable struct Fruit\n",
    "  name::String\n",
    "  cost::Float64\n",
    "  description::String\n",
    "end\n",
    "\n",
    "fruitlist = [\n",
    "  Fruit(\"Apple\", 2.45, \"Deciduous\"),\n",
    "  Fruit(\"Banana\", 1.95, \"Seedless\"),\n",
    "  Fruit(\"Cumquat\", 3.25, \"Citrus\"), \n",
    "  Fruit(\"Durian\", 9.95, \"Tropical\")];"
   ]
  },
  {
   "cell_type": "markdown",
   "metadata": {
    "slideshow": {
     "slide_type": "subslide"
    }
   },
   "source": [
    "Make a model out of the Julia array:"
   ]
  },
  {
   "cell_type": "code",
   "execution_count": 19,
   "metadata": {},
   "outputs": [
    {
     "data": {
      "text/plain": [
       "QML.ListModelAllocated(Ptr{Void} @0x00007ffbcf784cb0)"
      ]
     },
     "execution_count": 19,
     "metadata": {},
     "output_type": "execute_result"
    }
   ],
   "source": [
    "using QML\n",
    "fruitModel = ListModel(fruitlist)"
   ]
  },
  {
   "cell_type": "markdown",
   "metadata": {
    "slideshow": {
     "slide_type": "subslide"
    }
   },
   "source": [
    "QML using the model:\n",
    "```qml\n",
    "TableView {\n",
    "  model: fruitModel\n",
    "  \n",
    "  TableViewColumn { role: \"name\"; title: \"Name\" }\n",
    "  TableViewColumn { role: \"cost\"; title: \"Cost\" }\n",
    "  TableViewColumn { role: \"description\"; title: \"Description\" }\n",
    "}\n",
    "```\n",
    "Run as usual, with the `fruitModel` as context property"
   ]
  },
  {
   "cell_type": "code",
   "execution_count": 20,
   "metadata": {
    "collapsed": true
   },
   "outputs": [],
   "source": [
    "@qmlapp \"qml/listmodel.qml\" fruitModel\n",
    "exec()"
   ]
  },
  {
   "cell_type": "markdown",
   "metadata": {
    "collapsed": true,
    "slideshow": {
     "slide_type": "subslide"
    }
   },
   "source": [
    "## Modify using Delegate\n",
    "```qml\n",
    "Component {\n",
    "  id: listDelegate\n",
    "  RowLayout {\n",
    "    Text { text: name }\n",
    "    Text { text: cost }\n",
    "    TextField {\n",
    "      text: description\n",
    "      onAccepted: description = text\n",
    "    }\n",
    "  }\n",
    "}\n",
    "```"
   ]
  },
  {
   "cell_type": "markdown",
   "metadata": {
    "slideshow": {
     "slide_type": "subslide"
    }
   },
   "source": [
    "Integrated in ListView:"
   ]
  },
  {
   "cell_type": "code",
   "execution_count": 21,
   "metadata": {
    "collapsed": true
   },
   "outputs": [],
   "source": [
    "@qmlapp \"qml/listdelegate.qml\" fruitModel\n",
    "exec()"
   ]
  },
  {
   "cell_type": "code",
   "execution_count": 22,
   "metadata": {},
   "outputs": [
    {
     "data": {
      "text/plain": [
       "4-element Array{Fruit,1}:\n",
       " Fruit(\"Apple\", 2.45, \"Deciduous\")\n",
       " Fruit(\"Banana\", 1.95, \"Hmmm\")    \n",
       " Fruit(\"Cumquat\", 3.25, \"?\")      \n",
       " Fruit(\"Durian\", 9.95, \"Tropical\")"
      ]
     },
     "execution_count": 22,
     "metadata": {},
     "output_type": "execute_result"
    }
   ],
   "source": [
    "fruitlist"
   ]
  },
  {
   "cell_type": "markdown",
   "metadata": {
    "slideshow": {
     "slide_type": "subslide"
    }
   },
   "source": [
    "## Not limited to lists"
   ]
  },
  {
   "cell_type": "code",
   "execution_count": 23,
   "metadata": {},
   "outputs": [
    {
     "data": {
      "text/plain": [
       "QML.ListModelAllocated(Ptr{Void} @0x00007ffbd1fc83b0)"
      ]
     },
     "execution_count": 23,
     "metadata": {},
     "output_type": "execute_result"
    }
   ],
   "source": [
    "# Represents the state related to a single emoji\n",
    "type EmojiState\n",
    "  emoji::String\n",
    "  numclicks::Float64\n",
    "  bgcolor::String\n",
    "  ex::Float64\n",
    "  ey::Float64\n",
    "end\n",
    "\n",
    "# Build a list of emoji, positioned randomly\n",
    "emoji = EmojiState[]\n",
    "randpos() = rand()*0.8+0.1\n",
    "for (i,e) in enumerate([\"😁\", \"😃\", \"😆\", \"😎\", \"😈\"])\n",
    "  push!(emoji, EmojiState(e,0, i%2 == 0 ? \"blue\" : \"yellow\", randpos(), randpos()))\n",
    "end\n",
    "emojiModel = ListModel(emoji) # passed to QML"
   ]
  },
  {
   "cell_type": "markdown",
   "metadata": {
    "slideshow": {
     "slide_type": "subslide"
    }
   },
   "source": [
    "Use a `Repeater` with a `Rectangle` as delegate:\n",
    "```qml\n",
    "Repeater { // Repeat for each emoji\n",
    "  anchors.fill: parent\n",
    "  model: emojiModel\n",
    "\n",
    "  Rectangle {\n",
    "    color: bgcolor\n",
    "    x: ex*appRoot.width\n",
    "    y: ey*appRoot.height\n",
    "    Text { text: emoji }\n",
    "  \n",
    "    MouseArea {\n",
    "      anchors.fill: parent\n",
    "      onClicked: numclicks += 1\n",
    "      onPressed: parent.color = \"white\"\n",
    "      onReleased: parent.color = bgcolor\n",
    "    }\n",
    "  }\n",
    "}\n",
    "```"
   ]
  },
  {
   "cell_type": "code",
   "execution_count": 24,
   "metadata": {
    "collapsed": true,
    "slideshow": {
     "slide_type": "subslide"
    }
   },
   "outputs": [],
   "source": [
    "@qmlapp \"qml/repeater.qml\" emojiModel\n",
    "exec()"
   ]
  },
  {
   "cell_type": "code",
   "execution_count": 25,
   "metadata": {},
   "outputs": [
    {
     "name": "stdout",
     "output_type": "stream",
     "text": [
      "😁 was clicked 3 times\n",
      "😃 was clicked 0 times\n",
      "😆 was clicked 0 times\n",
      "😎 was clicked 6 times\n",
      "😈 was clicked 0 times\n"
     ]
    }
   ],
   "source": [
    "for e in emoji\n",
    "  println(\"$(e.emoji) was clicked $(Int(e.numclicks)) times\")\n",
    "end"
   ]
  },
  {
   "cell_type": "markdown",
   "metadata": {
    "slideshow": {
     "slide_type": "slide"
    }
   },
   "source": [
    "# Julia display"
   ]
  },
  {
   "cell_type": "code",
   "execution_count": 6,
   "metadata": {},
   "outputs": [
    {
     "name": "stderr",
     "output_type": "stream",
     "text": [
      "objc[19783]: Class RunLoopModeTracker is implemented in both /usr/local/opt/qt5/lib/QtCore.framework/Versions/5/QtCore (0x11faf0e30) and /Users/bjanssens/.julia/v0.6/Conda/deps/usr/lib/libQt5Core.5.dylib (0x12edb88b8). One of the two will be used. Which one is undefined.\n",
      "objc[19783]: Class NotificationReceiver is implemented in both /usr/local/opt/qt5/lib/QtWidgets.framework/Versions/5/QtWidgets (0x11eb6a0a0) and /Users/bjanssens/.julia/v0.6/Conda/deps/usr/lib/libQt5Widgets.5.dylib (0x131f8dca8). One of the two will be used. Which one is undefined.\n"
     ]
    },
    {
     "data": {
      "text/plain": [
       "plotsin (generic function with 1 method)"
      ]
     },
     "execution_count": 6,
     "metadata": {},
     "output_type": "execute_result"
    }
   ],
   "source": [
    "using QML\n",
    "using PyPlot\n",
    "\n",
    "function plotsin(d::JuliaDisplay, w, h)\n",
    "  f = figure(figsize=(w/80-0.7,h/80-0.5))\n",
    "  x = 0:π/100:2π\n",
    "  plt = plot(x,sin.(x))\n",
    "  display(d, f)\n",
    "  close(f)\n",
    "  return\n",
    "end"
   ]
  },
  {
   "cell_type": "markdown",
   "metadata": {
    "slideshow": {
     "slide_type": "subslide"
    }
   },
   "source": [
    "The `JuliaDisplay` is a custom QML component:\n",
    "```qml\n",
    "JuliaDisplay {\n",
    "  id: jdisp\n",
    "  Layout.fillWidth: true\n",
    "  Layout.fillHeight: true\n",
    "}\n",
    "```\n",
    "It is passed to Julia on a button click here:\n",
    "```qml\n",
    "Button {\n",
    "  text: \"Plot\"\n",
    "  onClicked: Julia.plotsin(jdisp, jdisp.width, jdisp.height)\n",
    "}\n",
    "```"
   ]
  },
  {
   "cell_type": "code",
   "execution_count": 7,
   "metadata": {
    "collapsed": true,
    "slideshow": {
     "slide_type": "subslide"
    }
   },
   "outputs": [],
   "source": [
    "@qmlfunction plotsin\n",
    "@qmlapp \"qml/plot.qml\"\n",
    "exec()"
   ]
  },
  {
   "cell_type": "code",
   "execution_count": null,
   "metadata": {
    "collapsed": true
   },
   "outputs": [],
   "source": [
    "quit()"
   ]
  },
  {
   "cell_type": "markdown",
   "metadata": {
    "slideshow": {
     "slide_type": "slide"
    }
   },
   "source": [
    "# OpenGL and GLVisualize\n",
    "## OpenGL triangle"
   ]
  },
  {
   "cell_type": "code",
   "execution_count": 1,
   "metadata": {},
   "outputs": [],
   "source": [
    "# MUST disable threading in Qt\n",
    "ENV[\"QSG_RENDER_LOOP\"] = \"basic\"\n",
    "\n",
    "using CxxWrap\n",
    "using QML\n",
    "using ModernGL, GeometryTypes, GLAbstraction"
   ]
  },
  {
   "cell_type": "code",
   "execution_count": 2,
   "metadata": {
    "collapsed": true
   },
   "outputs": [],
   "source": [
    "mutable struct Corner\n",
    "  id::Int32\n",
    "  cx::Float64\n",
    "  cy::Float64\n",
    "end"
   ]
  },
  {
   "cell_type": "code",
   "execution_count": 3,
   "metadata": {
    "slideshow": {
     "slide_type": "subslide"
    }
   },
   "outputs": [
    {
     "data": {
      "text/plain": [
       "render (generic function with 1 method)"
      ]
     },
     "execution_count": 3,
     "metadata": {},
     "output_type": "execute_result"
    }
   ],
   "source": [
    "function render()\n",
    "  # Draw a triangle. Code mostly from the tutorials in GLAbstraction.\n",
    "  vao = Ref(GLuint(0))\n",
    "  glGenVertexArrays(1, vao)\n",
    "  glBindVertexArray(vao[])\n",
    "\n",
    "  # The vertices of our triangle\n",
    "  vertices = Point2f0[(c.cx, c.cy) for c in corners] # note Float32\n",
    "\n",
    "  # Create the Vertex Buffer Object (VBO)\n",
    "  vbo = Ref(GLuint(0))   # initial value is irrelevant, just allocate space\n",
    "  glGenBuffers(1, vbo)\n",
    "  glBindBuffer(GL_ARRAY_BUFFER, vbo[])\n",
    "  glBufferData(GL_ARRAY_BUFFER, sizeof(vertices), vertices, GL_STATIC_DRAW)\n",
    "\n",
    "  # The vertex shader\n",
    "  vertex_source = \"\"\"\n",
    "  #version 150\n",
    "\n",
    "  in vec2 position;\n",
    "\n",
    "  void main()\n",
    "  {\n",
    "      gl_Position = vec4(position, 0.0, 1.0);\n",
    "  }\n",
    "  \"\"\"\n",
    "\n",
    "  # The fragment shader\n",
    "  fragment_source = \"\"\"\n",
    "  # version 150\n",
    "\n",
    "  out vec4 outColor;\n",
    "\n",
    "  void main()\n",
    "  {\n",
    "      outColor = vec4(1.0, 1.0, 1.0, 1.0);\n",
    "  }\n",
    "  \"\"\"\n",
    "\n",
    "  # Compile the vertex shader\n",
    "  vertex_shader = glCreateShader(GL_VERTEX_SHADER)\n",
    "  glShaderSource(vertex_shader, Vector{UInt8}(vertex_source))  # nicer thanks to GLAbstraction\n",
    "  glCompileShader(vertex_shader)\n",
    "  # Check that it compiled correctly\n",
    "  status = Ref(GLint(0))\n",
    "  glGetShaderiv(vertex_shader, GL_COMPILE_STATUS, status)\n",
    "  if status[] != GL_TRUE\n",
    "      buffer = Array(UInt8, 512)\n",
    "      glGetShaderInfoLog(vertex_shader, 512, C_NULL, buffer)\n",
    "      error(bytestring(buffer))\n",
    "  end\n",
    "\n",
    "  # Compile the fragment shader\n",
    "  fragment_shader = glCreateShader(GL_FRAGMENT_SHADER)\n",
    "  glShaderSource(fragment_shader, Vector{UInt8}(fragment_source))\n",
    "  glCompileShader(fragment_shader)\n",
    "  # Check that it compiled correctly\n",
    "  status = Ref(GLint(0))\n",
    "  glGetShaderiv(fragment_shader, GL_COMPILE_STATUS, status)\n",
    "  if status[] != GL_TRUE\n",
    "      buffer = Array(UInt8, 512)\n",
    "      glGetShaderInfoLog(fragment_shader, 512, C_NULL, buffer)\n",
    "      error(bytestring(buffer))\n",
    "  end\n",
    "\n",
    "  # Connect the shaders by combining them into a program\n",
    "  shader_program = glCreateProgram()\n",
    "  glAttachShader(shader_program, vertex_shader)\n",
    "  glAttachShader(shader_program, fragment_shader)\n",
    "  glBindFragDataLocation(shader_program, 0, \"outColor\") # optional\n",
    "\n",
    "  glLinkProgram(shader_program)\n",
    "  glUseProgram(shader_program)\n",
    "\n",
    "  # Link vertex data to attributes\n",
    "  pos_attribute = glGetAttribLocation(shader_program, \"position\")\n",
    "  glVertexAttribPointer(pos_attribute, length(eltype(vertices)),\n",
    "                        GL_FLOAT, GL_FALSE, 0, C_NULL)\n",
    "  glEnableVertexAttribArray(pos_attribute)\n",
    "\n",
    "  # Set background\n",
    "  glClearColor(0.,0.4,0.8,1.)\n",
    "  glEnable(GL_DEPTH_TEST)\n",
    "  glDepthFunc(GL_LESS)\n",
    "  glClear(GL_COLOR_BUFFER_BIT | GL_DEPTH_BUFFER_BIT)\n",
    "\n",
    "  # Render triangle\n",
    "  glDrawArrays(GL_TRIANGLES, 0, length(vertices))\n",
    "end"
   ]
  },
  {
   "cell_type": "code",
   "execution_count": 4,
   "metadata": {
    "slideshow": {
     "slide_type": "subslide"
    }
   },
   "outputs": [
    {
     "data": {
      "text/plain": [
       "CxxWrap.SafeCFunction(Ptr{Void} @0x00000001141b8150, Void, Type[])"
      ]
     },
     "execution_count": 4,
     "metadata": {},
     "output_type": "execute_result"
    }
   ],
   "source": [
    "render_triangle = CxxWrap.safe_cfunction(render, Void, ())"
   ]
  },
  {
   "cell_type": "code",
   "execution_count": 5,
   "metadata": {},
   "outputs": [
    {
     "data": {
      "text/plain": [
       "QML.ListModelAllocated(Ptr{Void} @0x00007fbd669b6a70)"
      ]
     },
     "execution_count": 5,
     "metadata": {},
     "output_type": "execute_result"
    }
   ],
   "source": [
    "corners = [Corner(1,0,0.5), Corner(2,0.5,-0.5), Corner(3,-0.5,-0.5)]\n",
    "cornersModel = ListModel(corners)"
   ]
  },
  {
   "cell_type": "code",
   "execution_count": 8,
   "metadata": {},
   "outputs": [
    {
     "data": {
      "text/plain": [
       "3-element Array{Corner,1}:\n",
       " Corner(1, 0.196859, 0.665359)  \n",
       " Corner(2, 0.794703, -0.0290156)\n",
       " Corner(3, -0.161391, -0.518094)"
      ]
     },
     "execution_count": 8,
     "metadata": {},
     "output_type": "execute_result"
    }
   ],
   "source": [
    "@qmlapp \"qml/opengl.qml\" render_triangle cornersModel\n",
    "exec()\n",
    "corners"
   ]
  },
  {
   "cell_type": "code",
   "execution_count": null,
   "metadata": {
    "collapsed": true
   },
   "outputs": [],
   "source": [
    "quit()"
   ]
  },
  {
   "cell_type": "markdown",
   "metadata": {
    "slideshow": {
     "slide_type": "slide"
    }
   },
   "source": [
    "# GR integration"
   ]
  },
  {
   "cell_type": "code",
   "execution_count": 1,
   "metadata": {},
   "outputs": [],
   "source": [
    "ENV[\"QSG_RENDER_LOOP\"] = \"basic\" # Disable threads\n",
    "using CxxWrap # safe_cfunction\n",
    "using GR\n",
    "using QML"
   ]
  },
  {
   "cell_type": "code",
   "execution_count": 2,
   "metadata": {},
   "outputs": [],
   "source": [
    "mutable struct Point\n",
    "    id::Int32\n",
    "    px::Float64\n",
    "    py::Float64\n",
    "end\n",
    "\n",
    "ptrange = 1:5\n",
    "\n",
    "points = [Point(i,rand(),rand()) for i in ptrange];\n",
    "\n",
    "ndcx = Any[0.0 for i in ptrange]\n",
    "ndcy = Any[0.0 for i in ptrange];"
   ]
  },
  {
   "cell_type": "code",
   "execution_count": 3,
   "metadata": {
    "slideshow": {
     "slide_type": "subslide"
    }
   },
   "outputs": [
    {
     "data": {
      "text/plain": [
       "plotline (generic function with 1 method)"
      ]
     },
     "execution_count": 3,
     "metadata": {},
     "output_type": "execute_result"
    }
   ],
   "source": [
    "function plotline(p::QML.QPainterRef, ::QML.JuliaPaintedItemRef)\n",
    "    ENV[\"GKSwstype\"] = 381\n",
    "    ENV[\"GKSconid\"] = split(repr(p.cpp_object), \"@\")[2]\n",
    "    \n",
    "    dev = device(p)\n",
    "    plt = gcf()\n",
    "    plt[:size] = (width(dev), height(dev))\n",
    "\n",
    "    GR.setwindow(0,1,0,1)\n",
    "    \n",
    "    global ndcx\n",
    "    global ndcy\n",
    "    \n",
    "    plot([p.px for p in points],[p.py for p in points],xlim=(0,1),ylim=(0,1))\n",
    "    \n",
    "    for pt in points\n",
    "        (ndcx[pt.id], ndcy[pt.id]) = GR.wctondc(pt.px, pt.py)\n",
    "    end\n",
    "    \n",
    "    @qmlset qmlcontext().ndcx = ndcx\n",
    "    @qmlset qmlcontext().ndcy = ndcy\n",
    "\n",
    "    return\n",
    "end"
   ]
  },
  {
   "cell_type": "code",
   "execution_count": 4,
   "metadata": {
    "slideshow": {
     "slide_type": "subslide"
    }
   },
   "outputs": [
    {
     "data": {
      "text/plain": [
       "CxxWrap.SafeCFunction(Ptr{Void} @0x000000010f92bbd0, Void, Type[QML.QPainterRef, QML.JuliaPaintedItemRef])"
      ]
     },
     "execution_count": 4,
     "metadata": {},
     "output_type": "execute_result"
    }
   ],
   "source": [
    "paint_cfunction = safe_cfunction(plotline, Void, (QML.QPainterRef,QML.JuliaPaintedItemRef))"
   ]
  },
  {
   "cell_type": "code",
   "execution_count": 5,
   "metadata": {},
   "outputs": [
    {
     "data": {
      "text/plain": [
       "QML.ListModelAllocated(Ptr{Void} @0x00007ffa859f1ee0)"
      ]
     },
     "execution_count": 5,
     "metadata": {},
     "output_type": "execute_result"
    }
   ],
   "source": [
    "pointsModel = ListModel(points)"
   ]
  },
  {
   "cell_type": "code",
   "execution_count": 12,
   "metadata": {},
   "outputs": [
    {
     "data": {
      "text/plain": [
       "5-element Array{Point,1}:\n",
       " Point(1, 0.4, 0.0823566)    \n",
       " Point(2, 0.628936, 0.318055)\n",
       " Point(3, 0.337205, 0.873409)\n",
       " Point(4, 0.433491, 0.534951)\n",
       " Point(5, 0.808547, 0.114685)"
      ]
     },
     "execution_count": 12,
     "metadata": {},
     "output_type": "execute_result"
    }
   ],
   "source": [
    "@qmlapp \"qml/gr.qml\" paint_cfunction pointsModel ndcx ndcy\n",
    "exec()\n",
    "points"
   ]
  },
  {
   "cell_type": "markdown",
   "metadata": {
    "slideshow": {
     "slide_type": "slide"
    }
   },
   "source": [
    "# Future work\n",
    "* Improve GLVisualize.jl integration (events)\n",
    "* Extend GR.jl integration to Plots.jl\n",
    "* Listmodel integrations with e.g. DataFrames.jl\n",
    "* Support more mime types on the display\n",
    "* Signals/slots library in Julia?"
   ]
  }
 ],
 "metadata": {
  "celltoolbar": "Slideshow",
  "kernelspec": {
   "display_name": "Julia 0.6.0",
   "language": "julia",
   "name": "julia-0.6"
  },
  "language_info": {
   "file_extension": ".jl",
   "mimetype": "application/julia",
   "name": "julia",
   "version": "0.6.0"
  }
 },
 "nbformat": 4,
 "nbformat_minor": 2
}
